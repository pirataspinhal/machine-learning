{
 "cells": [
  {
   "cell_type": "code",
   "execution_count": 294,
   "metadata": {
    "collapsed": true
   },
   "outputs": [],
   "source": [
    "import numpy as np"
   ]
  },
  {
   "cell_type": "code",
   "execution_count": 295,
   "metadata": {
    "collapsed": false
   },
   "outputs": [
    {
     "data": {
      "text/plain": [
       "'1.10.4'"
      ]
     },
     "execution_count": 295,
     "metadata": {},
     "output_type": "execute_result"
    }
   ],
   "source": [
    "np.__version__"
   ]
  },
  {
   "cell_type": "code",
   "execution_count": 296,
   "metadata": {
    "collapsed": false
   },
   "outputs": [
    {
     "name": "stdout",
     "output_type": "stream",
     "text": [
      "C:\\Users\\embarcados\\Desktop\\ml-data\\data\n"
     ]
    }
   ],
   "source": [
    "cd C:\\Users\\embarcados\\Desktop\\ml-data\\data"
   ]
  },
  {
   "cell_type": "code",
   "execution_count": 297,
   "metadata": {
    "collapsed": true
   },
   "outputs": [],
   "source": [
    "import csv"
   ]
  },
  {
   "cell_type": "code",
   "execution_count": 298,
   "metadata": {
    "collapsed": false
   },
   "outputs": [],
   "source": [
    "iris_file = open(\"C:\\Users\\embarcados\\Desktop\\ml-data\\data\\iris.data\", \"rb\")\n",
    "csv_handler = csv.reader(iris_file)"
   ]
  },
  {
   "cell_type": "code",
   "execution_count": 299,
   "metadata": {
    "collapsed": true
   },
   "outputs": [],
   "source": [
    "header = csv_handler.next()"
   ]
  },
  {
   "cell_type": "code",
   "execution_count": 300,
   "metadata": {
    "collapsed": false
   },
   "outputs": [
    {
     "data": {
      "text/plain": [
       "['SepalLengthCm', 'SepalWidthCm', 'PetalLengthCm', 'PetalWidthCm', 'Species']"
      ]
     },
     "execution_count": 300,
     "metadata": {},
     "output_type": "execute_result"
    }
   ],
   "source": [
    "header"
   ]
  },
  {
   "cell_type": "code",
   "execution_count": 301,
   "metadata": {
    "collapsed": true
   },
   "outputs": [],
   "source": [
    "data = []"
   ]
  },
  {
   "cell_type": "code",
   "execution_count": 302,
   "metadata": {
    "collapsed": false
   },
   "outputs": [],
   "source": [
    "for row in csv_handler:\n",
    "    data.append(row)"
   ]
  },
  {
   "cell_type": "code",
   "execution_count": 303,
   "metadata": {
    "collapsed": false
   },
   "outputs": [
    {
     "data": {
      "text/plain": [
       "[['5.1', '3.5', '1.4', '0.2', 'Iris-setosa'],\n",
       " ['4.9', '3.0', '1.4', '0.2', 'Iris-setosa'],\n",
       " ['4.7', '3.2', '1.3', '0.2', 'Iris-setosa'],\n",
       " ['4.6', '3.1', '1.5', '0.2', 'Iris-setosa'],\n",
       " ['5.0', '3.6', '1.4', '0.2', 'Iris-setosa'],\n",
       " ['5.4', '3.9', '1.7', '0.4', 'Iris-setosa'],\n",
       " ['4.6', '3.4', '1.4', '0.3', 'Iris-setosa'],\n",
       " ['5.0', '3.4', '1.5', '0.2', 'Iris-setosa'],\n",
       " ['4.4', '2.9', '1.4', '0.2', 'Iris-setosa'],\n",
       " ['4.9', '3.1', '1.5', '0.1', 'Iris-setosa'],\n",
       " ['5.4', '3.7', '1.5', '0.2', 'Iris-setosa'],\n",
       " ['4.8', '3.4', '1.6', '0.2', 'Iris-setosa'],\n",
       " ['4.8', '3.0', '1.4', '0.1', 'Iris-setosa'],\n",
       " ['4.3', '3.0', '1.1', '0.1', 'Iris-setosa'],\n",
       " ['5.8', '4.0', '1.2', '0.2', 'Iris-setosa'],\n",
       " ['5.7', '4.4', '1.5', '0.4', 'Iris-setosa'],\n",
       " ['5.4', '3.9', '1.3', '0.4', 'Iris-setosa'],\n",
       " ['5.1', '3.5', '1.4', '0.3', 'Iris-setosa'],\n",
       " ['5.7', '3.8', '1.7', '0.3', 'Iris-setosa'],\n",
       " ['5.1', '3.8', '1.5', '0.3', 'Iris-setosa'],\n",
       " ['5.4', '3.4', '1.7', '0.2', 'Iris-setosa'],\n",
       " ['5.1', '3.7', '1.5', '0.4', 'Iris-setosa'],\n",
       " ['4.6', '3.6', '1.0', '0.2', 'Iris-setosa'],\n",
       " ['5.1', '3.3', '1.7', '0.5', 'Iris-setosa'],\n",
       " ['4.8', '3.4', '1.9', '0.2', 'Iris-setosa'],\n",
       " ['5.0', '3.0', '1.6', '0.2', 'Iris-setosa'],\n",
       " ['5.0', '3.4', '1.6', '0.4', 'Iris-setosa'],\n",
       " ['5.2', '3.5', '1.5', '0.2', 'Iris-setosa'],\n",
       " ['5.2', '3.4', '1.4', '0.2', 'Iris-setosa'],\n",
       " ['4.7', '3.2', '1.6', '0.2', 'Iris-setosa'],\n",
       " ['4.8', '3.1', '1.6', '0.2', 'Iris-setosa'],\n",
       " ['5.4', '3.4', '1.5', '0.4', 'Iris-setosa'],\n",
       " ['5.2', '4.1', '1.5', '0.1', 'Iris-setosa'],\n",
       " ['5.5', '4.2', '1.4', '0.2', 'Iris-setosa'],\n",
       " ['4.9', '3.1', '1.5', '0.1', 'Iris-setosa'],\n",
       " ['5.0', '3.2', '1.2', '0.2', 'Iris-setosa'],\n",
       " ['5.5', '3.5', '1.3', '0.2', 'Iris-setosa'],\n",
       " ['4.9', '3.1', '1.5', '0.1', 'Iris-setosa'],\n",
       " ['4.4', '3.0', '1.3', '0.2', 'Iris-setosa'],\n",
       " ['5.1', '3.4', '1.5', '0.2', 'Iris-setosa'],\n",
       " ['5.0', '3.5', '1.3', '0.3', 'Iris-setosa'],\n",
       " ['4.5', '2.3', '1.3', '0.3', 'Iris-setosa'],\n",
       " ['4.4', '3.2', '1.3', '0.2', 'Iris-setosa'],\n",
       " ['5.0', '3.5', '1.6', '0.6', 'Iris-setosa'],\n",
       " ['5.1', '3.8', '1.9', '0.4', 'Iris-setosa'],\n",
       " ['4.8', '3.0', '1.4', '0.3', 'Iris-setosa'],\n",
       " ['5.1', '3.8', '1.6', '0.2', 'Iris-setosa'],\n",
       " ['4.6', '3.2', '1.4', '0.2', 'Iris-setosa'],\n",
       " ['5.3', '3.7', '1.5', '0.2', 'Iris-setosa'],\n",
       " ['5.0', '3.3', '1.4', '0.2', 'Iris-setosa'],\n",
       " ['7.0', '3.2', '4.7', '1.4', 'Iris-versicolor'],\n",
       " ['6.4', '3.2', '4.5', '1.5', 'Iris-versicolor'],\n",
       " ['6.9', '3.1', '4.9', '1.5', 'Iris-versicolor'],\n",
       " ['5.5', '2.3', '4.0', '1.3', 'Iris-versicolor'],\n",
       " ['6.5', '2.8', '4.6', '1.5', 'Iris-versicolor'],\n",
       " ['5.7', '2.8', '4.5', '1.3', 'Iris-versicolor'],\n",
       " ['6.3', '3.3', '4.7', '1.6', 'Iris-versicolor'],\n",
       " ['4.9', '2.4', '3.3', '1.0', 'Iris-versicolor'],\n",
       " ['6.6', '2.9', '4.6', '1.3', 'Iris-versicolor'],\n",
       " ['5.2', '2.7', '3.9', '1.4', 'Iris-versicolor'],\n",
       " ['5.0', '2.0', '3.5', '1.0', 'Iris-versicolor'],\n",
       " ['5.9', '3.0', '4.2', '1.5', 'Iris-versicolor'],\n",
       " ['6.0', '2.2', '4.0', '1.0', 'Iris-versicolor'],\n",
       " ['6.1', '2.9', '4.7', '1.4', 'Iris-versicolor'],\n",
       " ['5.6', '2.9', '3.6', '1.3', 'Iris-versicolor'],\n",
       " ['6.7', '3.1', '4.4', '1.4', 'Iris-versicolor'],\n",
       " ['5.6', '3.0', '4.5', '1.5', 'Iris-versicolor'],\n",
       " ['5.8', '2.7', '4.1', '1.0', 'Iris-versicolor'],\n",
       " ['6.2', '2.2', '4.5', '1.5', 'Iris-versicolor'],\n",
       " ['5.6', '2.5', '3.9', '1.1', 'Iris-versicolor'],\n",
       " ['5.9', '3.2', '4.8', '1.8', 'Iris-versicolor'],\n",
       " ['6.1', '2.8', '4.0', '1.3', 'Iris-versicolor'],\n",
       " ['6.3', '2.5', '4.9', '1.5', 'Iris-versicolor'],\n",
       " ['6.1', '2.8', '4.7', '1.2', 'Iris-versicolor'],\n",
       " ['6.4', '2.9', '4.3', '1.3', 'Iris-versicolor'],\n",
       " ['6.6', '3.0', '4.4', '1.4', 'Iris-versicolor'],\n",
       " ['6.8', '2.8', '4.8', '1.4', 'Iris-versicolor'],\n",
       " ['6.7', '3.0', '5.0', '1.7', 'Iris-versicolor'],\n",
       " ['6.0', '2.9', '4.5', '1.5', 'Iris-versicolor'],\n",
       " ['5.7', '2.6', '3.5', '1.0', 'Iris-versicolor'],\n",
       " ['5.5', '2.4', '3.8', '1.1', 'Iris-versicolor'],\n",
       " ['5.5', '2.4', '3.7', '1.0', 'Iris-versicolor'],\n",
       " ['5.8', '2.7', '3.9', '1.2', 'Iris-versicolor'],\n",
       " ['6.0', '2.7', '5.1', '1.6', 'Iris-versicolor'],\n",
       " ['5.4', '3.0', '4.5', '1.5', 'Iris-versicolor'],\n",
       " ['6.0', '3.4', '4.5', '1.6', 'Iris-versicolor'],\n",
       " ['6.7', '3.1', '4.7', '1.5', 'Iris-versicolor'],\n",
       " ['6.3', '2.3', '4.4', '1.3', 'Iris-versicolor'],\n",
       " ['5.6', '3.0', '4.1', '1.3', 'Iris-versicolor'],\n",
       " ['5.5', '2.5', '4.0', '1.3', 'Iris-versicolor'],\n",
       " ['5.5', '2.6', '4.4', '1.2', 'Iris-versicolor'],\n",
       " ['6.1', '3.0', '4.6', '1.4', 'Iris-versicolor'],\n",
       " ['5.8', '2.6', '4.0', '1.2', 'Iris-versicolor'],\n",
       " ['5.0', '2.3', '3.3', '1.0', 'Iris-versicolor'],\n",
       " ['5.6', '2.7', '4.2', '1.3', 'Iris-versicolor'],\n",
       " ['5.7', '3.0', '4.2', '1.2', 'Iris-versicolor'],\n",
       " ['5.7', '2.9', '4.2', '1.3', 'Iris-versicolor'],\n",
       " ['6.2', '2.9', '4.3', '1.3', 'Iris-versicolor'],\n",
       " ['5.1', '2.5', '3.0', '1.1', 'Iris-versicolor'],\n",
       " ['5.7', '2.8', '4.1', '1.3', 'Iris-versicolor'],\n",
       " ['6.3', '3.3', '6.0', '2.5', 'Iris-virginica'],\n",
       " ['5.8', '2.7', '5.1', '1.9', 'Iris-virginica'],\n",
       " ['7.1', '3.0', '5.9', '2.1', 'Iris-virginica'],\n",
       " ['6.3', '2.9', '5.6', '1.8', 'Iris-virginica'],\n",
       " ['6.5', '3.0', '5.8', '2.2', 'Iris-virginica'],\n",
       " ['7.6', '3.0', '6.6', '2.1', 'Iris-virginica'],\n",
       " ['4.9', '2.5', '4.5', '1.7', 'Iris-virginica'],\n",
       " ['7.3', '2.9', '6.3', '1.8', 'Iris-virginica'],\n",
       " ['6.7', '2.5', '5.8', '1.8', 'Iris-virginica'],\n",
       " ['7.2', '3.6', '6.1', '2.5', 'Iris-virginica'],\n",
       " ['6.5', '3.2', '5.1', '2.0', 'Iris-virginica'],\n",
       " ['6.4', '2.7', '5.3', '1.9', 'Iris-virginica'],\n",
       " ['6.8', '3.0', '5.5', '2.1', 'Iris-virginica'],\n",
       " ['5.7', '2.5', '5.0', '2.0', 'Iris-virginica'],\n",
       " ['5.8', '2.8', '5.1', '2.4', 'Iris-virginica'],\n",
       " ['6.4', '3.2', '5.3', '2.3', 'Iris-virginica'],\n",
       " ['6.5', '3.0', '5.5', '1.8', 'Iris-virginica'],\n",
       " ['7.7', '3.8', '6.7', '2.2', 'Iris-virginica'],\n",
       " ['7.7', '2.6', '6.9', '2.3', 'Iris-virginica'],\n",
       " ['6.0', '2.2', '5.0', '1.5', 'Iris-virginica'],\n",
       " ['6.9', '3.2', '5.7', '2.3', 'Iris-virginica'],\n",
       " ['5.6', '2.8', '4.9', '2.0', 'Iris-virginica'],\n",
       " ['7.7', '2.8', '6.7', '2.0', 'Iris-virginica'],\n",
       " ['6.3', '2.7', '4.9', '1.8', 'Iris-virginica'],\n",
       " ['6.7', '3.3', '5.7', '2.1', 'Iris-virginica'],\n",
       " ['7.2', '3.2', '6.0', '1.8', 'Iris-virginica'],\n",
       " ['6.2', '2.8', '4.8', '1.8', 'Iris-virginica'],\n",
       " ['6.1', '3.0', '4.9', '1.8', 'Iris-virginica'],\n",
       " ['6.4', '2.8', '5.6', '2.1', 'Iris-virginica'],\n",
       " ['7.2', '3.0', '5.8', '1.6', 'Iris-virginica'],\n",
       " ['7.4', '2.8', '6.1', '1.9', 'Iris-virginica'],\n",
       " ['7.9', '3.8', '6.4', '2.0', 'Iris-virginica'],\n",
       " ['6.4', '2.8', '5.6', '2.2', 'Iris-virginica'],\n",
       " ['6.3', '2.8', '5.1', '1.5', 'Iris-virginica'],\n",
       " ['6.1', '2.6', '5.6', '1.4', 'Iris-virginica'],\n",
       " ['7.7', '3.0', '6.1', '2.3', 'Iris-virginica'],\n",
       " ['6.3', '3.4', '5.6', '2.4', 'Iris-virginica'],\n",
       " ['6.4', '3.1', '5.5', '1.8', 'Iris-virginica'],\n",
       " ['6.0', '3.0', '4.8', '1.8', 'Iris-virginica'],\n",
       " ['6.9', '3.1', '5.4', '2.1', 'Iris-virginica'],\n",
       " ['6.7', '3.1', '5.6', '2.4', 'Iris-virginica'],\n",
       " ['6.9', '3.1', '5.1', '2.3', 'Iris-virginica'],\n",
       " ['5.8', '2.7', '5.1', '1.9', 'Iris-virginica'],\n",
       " ['6.8', '3.2', '5.9', '2.3', 'Iris-virginica'],\n",
       " ['6.7', '3.3', '5.7', '2.5', 'Iris-virginica'],\n",
       " ['6.7', '3.0', '5.2', '2.3', 'Iris-virginica'],\n",
       " ['6.3', '2.5', '5.0', '1.9', 'Iris-virginica'],\n",
       " ['6.5', '3.0', '5.2', '2.0', 'Iris-virginica'],\n",
       " ['6.2', '3.4', '5.4', '2.3', 'Iris-virginica'],\n",
       " ['5.9', '3.0', '5.1', '1.8', 'Iris-virginica']]"
      ]
     },
     "execution_count": 303,
     "metadata": {},
     "output_type": "execute_result"
    }
   ],
   "source": [
    "data"
   ]
  },
  {
   "cell_type": "code",
   "execution_count": 304,
   "metadata": {
    "collapsed": true
   },
   "outputs": [],
   "source": [
    "data = np.array(data)"
   ]
  },
  {
   "cell_type": "code",
   "execution_count": 305,
   "metadata": {
    "collapsed": false
   },
   "outputs": [
    {
     "data": {
      "text/plain": [
       "(150L, 5L)"
      ]
     },
     "execution_count": 305,
     "metadata": {},
     "output_type": "execute_result"
    }
   ],
   "source": [
    "data.shape"
   ]
  },
  {
   "cell_type": "code",
   "execution_count": 306,
   "metadata": {
    "collapsed": false
   },
   "outputs": [
    {
     "data": {
      "text/plain": [
       "2"
      ]
     },
     "execution_count": 306,
     "metadata": {},
     "output_type": "execute_result"
    }
   ],
   "source": [
    "data.ndim"
   ]
  },
  {
   "cell_type": "code",
   "execution_count": 307,
   "metadata": {
    "collapsed": false
   },
   "outputs": [
    {
     "data": {
      "text/plain": [
       "array(['5.1', '3.5', '1.4', '0.2', 'Iris-setosa'], \n",
       "      dtype='|S15')"
      ]
     },
     "execution_count": 307,
     "metadata": {},
     "output_type": "execute_result"
    }
   ],
   "source": [
    "data[0, :]"
   ]
  },
  {
   "cell_type": "code",
   "execution_count": 308,
   "metadata": {
    "collapsed": false
   },
   "outputs": [
    {
     "data": {
      "text/plain": [
       "array(['4.9', '3.0', '1.4', '0.2', 'Iris-setosa'], \n",
       "      dtype='|S15')"
      ]
     },
     "execution_count": 308,
     "metadata": {},
     "output_type": "execute_result"
    }
   ],
   "source": [
    "data[1, :]"
   ]
  },
  {
   "cell_type": "code",
   "execution_count": 309,
   "metadata": {
    "collapsed": false
   },
   "outputs": [
    {
     "data": {
      "text/plain": [
       "array(['5.9', '3.0', '5.1', '1.8', 'Iris-virginica'], \n",
       "      dtype='|S15')"
      ]
     },
     "execution_count": 309,
     "metadata": {},
     "output_type": "execute_result"
    }
   ],
   "source": [
    "data[-1, :]"
   ]
  },
  {
   "cell_type": "code",
   "execution_count": 310,
   "metadata": {
    "collapsed": false
   },
   "outputs": [
    {
     "data": {
      "text/plain": [
       "array(['5.1', '4.9', '4.7', '4.6', '5.0', '5.4', '4.6', '5.0', '4.4',\n",
       "       '4.9', '5.4', '4.8', '4.8', '4.3', '5.8', '5.7', '5.4', '5.1',\n",
       "       '5.7', '5.1', '5.4', '5.1', '4.6', '5.1', '4.8', '5.0', '5.0',\n",
       "       '5.2', '5.2', '4.7', '4.8', '5.4', '5.2', '5.5', '4.9', '5.0',\n",
       "       '5.5', '4.9', '4.4', '5.1', '5.0', '4.5', '4.4', '5.0', '5.1',\n",
       "       '4.8', '5.1', '4.6', '5.3', '5.0', '7.0', '6.4', '6.9', '5.5',\n",
       "       '6.5', '5.7', '6.3', '4.9', '6.6', '5.2', '5.0', '5.9', '6.0',\n",
       "       '6.1', '5.6', '6.7', '5.6', '5.8', '6.2', '5.6', '5.9', '6.1',\n",
       "       '6.3', '6.1', '6.4', '6.6', '6.8', '6.7', '6.0', '5.7', '5.5',\n",
       "       '5.5', '5.8', '6.0', '5.4', '6.0', '6.7', '6.3', '5.6', '5.5',\n",
       "       '5.5', '6.1', '5.8', '5.0', '5.6', '5.7', '5.7', '6.2', '5.1',\n",
       "       '5.7', '6.3', '5.8', '7.1', '6.3', '6.5', '7.6', '4.9', '7.3',\n",
       "       '6.7', '7.2', '6.5', '6.4', '6.8', '5.7', '5.8', '6.4', '6.5',\n",
       "       '7.7', '7.7', '6.0', '6.9', '5.6', '7.7', '6.3', '6.7', '7.2',\n",
       "       '6.2', '6.1', '6.4', '7.2', '7.4', '7.9', '6.4', '6.3', '6.1',\n",
       "       '7.7', '6.3', '6.4', '6.0', '6.9', '6.7', '6.9', '5.8', '6.8',\n",
       "       '6.7', '6.7', '6.3', '6.5', '6.2', '5.9'], \n",
       "      dtype='|S15')"
      ]
     },
     "execution_count": 310,
     "metadata": {},
     "output_type": "execute_result"
    }
   ],
   "source": [
    "data[:, 0]"
   ]
  },
  {
   "cell_type": "code",
   "execution_count": 311,
   "metadata": {
    "collapsed": false
   },
   "outputs": [
    {
     "data": {
      "text/plain": [
       "array([['5.1', '3.5', '1.4', '0.2', 'Iris-setosa'],\n",
       "       ['4.9', '3.0', '1.4', '0.2', 'Iris-setosa'],\n",
       "       ['4.7', '3.2', '1.3', '0.2', 'Iris-setosa'],\n",
       "       ['4.6', '3.1', '1.5', '0.2', 'Iris-setosa'],\n",
       "       ['5.0', '3.6', '1.4', '0.2', 'Iris-setosa']], \n",
       "      dtype='|S15')"
      ]
     },
     "execution_count": 311,
     "metadata": {},
     "output_type": "execute_result"
    }
   ],
   "source": [
    "data[0:5, :]"
   ]
  },
  {
   "cell_type": "code",
   "execution_count": 312,
   "metadata": {
    "collapsed": false
   },
   "outputs": [
    {
     "data": {
      "text/plain": [
       "array([['4.9', '3.0', '1.4', '0.2', 'Iris-setosa'],\n",
       "       ['4.7', '3.2', '1.3', '0.2', 'Iris-setosa'],\n",
       "       ['4.6', '3.1', '1.5', '0.2', 'Iris-setosa'],\n",
       "       ['5.0', '3.6', '1.4', '0.2', 'Iris-setosa'],\n",
       "       ['5.4', '3.9', '1.7', '0.4', 'Iris-setosa']], \n",
       "      dtype='|S15')"
      ]
     },
     "execution_count": 312,
     "metadata": {},
     "output_type": "execute_result"
    }
   ],
   "source": [
    "data[1:6, :]"
   ]
  },
  {
   "cell_type": "code",
   "execution_count": 313,
   "metadata": {
    "collapsed": false
   },
   "outputs": [
    {
     "data": {
      "text/plain": [
       "array([['5.1', '3.5'],\n",
       "       ['4.9', '3.0'],\n",
       "       ['4.7', '3.2'],\n",
       "       ['4.6', '3.1'],\n",
       "       ['5.0', '3.6']], \n",
       "      dtype='|S15')"
      ]
     },
     "execution_count": 313,
     "metadata": {},
     "output_type": "execute_result"
    }
   ],
   "source": [
    "data[0:5, 0:2]"
   ]
  },
  {
   "cell_type": "code",
   "execution_count": 314,
   "metadata": {
    "collapsed": false
   },
   "outputs": [
    {
     "data": {
      "text/plain": [
       "array(['Iris-setosa', 'Iris-setosa', 'Iris-setosa', 'Iris-setosa',\n",
       "       'Iris-setosa', 'Iris-setosa', 'Iris-setosa', 'Iris-setosa',\n",
       "       'Iris-setosa', 'Iris-setosa', 'Iris-setosa', 'Iris-setosa',\n",
       "       'Iris-setosa', 'Iris-setosa', 'Iris-setosa', 'Iris-setosa',\n",
       "       'Iris-setosa', 'Iris-setosa', 'Iris-setosa', 'Iris-setosa',\n",
       "       'Iris-setosa', 'Iris-setosa', 'Iris-setosa', 'Iris-setosa',\n",
       "       'Iris-setosa', 'Iris-setosa', 'Iris-setosa', 'Iris-setosa',\n",
       "       'Iris-setosa', 'Iris-setosa', 'Iris-setosa', 'Iris-setosa',\n",
       "       'Iris-setosa', 'Iris-setosa', 'Iris-setosa', 'Iris-setosa',\n",
       "       'Iris-setosa', 'Iris-setosa', 'Iris-setosa', 'Iris-setosa',\n",
       "       'Iris-setosa', 'Iris-setosa', 'Iris-setosa', 'Iris-setosa',\n",
       "       'Iris-setosa', 'Iris-setosa', 'Iris-setosa', 'Iris-setosa',\n",
       "       'Iris-setosa', 'Iris-setosa', 'Iris-versicolor', 'Iris-versicolor',\n",
       "       'Iris-versicolor', 'Iris-versicolor', 'Iris-versicolor',\n",
       "       'Iris-versicolor', 'Iris-versicolor', 'Iris-versicolor',\n",
       "       'Iris-versicolor', 'Iris-versicolor', 'Iris-versicolor',\n",
       "       'Iris-versicolor', 'Iris-versicolor', 'Iris-versicolor',\n",
       "       'Iris-versicolor', 'Iris-versicolor', 'Iris-versicolor',\n",
       "       'Iris-versicolor', 'Iris-versicolor', 'Iris-versicolor',\n",
       "       'Iris-versicolor', 'Iris-versicolor', 'Iris-versicolor',\n",
       "       'Iris-versicolor', 'Iris-versicolor', 'Iris-versicolor',\n",
       "       'Iris-versicolor', 'Iris-versicolor', 'Iris-versicolor',\n",
       "       'Iris-versicolor', 'Iris-versicolor', 'Iris-versicolor',\n",
       "       'Iris-versicolor', 'Iris-versicolor', 'Iris-versicolor',\n",
       "       'Iris-versicolor', 'Iris-versicolor', 'Iris-versicolor',\n",
       "       'Iris-versicolor', 'Iris-versicolor', 'Iris-versicolor',\n",
       "       'Iris-versicolor', 'Iris-versicolor', 'Iris-versicolor',\n",
       "       'Iris-versicolor', 'Iris-versicolor', 'Iris-versicolor',\n",
       "       'Iris-versicolor', 'Iris-versicolor', 'Iris-versicolor',\n",
       "       'Iris-virginica', 'Iris-virginica', 'Iris-virginica',\n",
       "       'Iris-virginica', 'Iris-virginica', 'Iris-virginica',\n",
       "       'Iris-virginica', 'Iris-virginica', 'Iris-virginica',\n",
       "       'Iris-virginica', 'Iris-virginica', 'Iris-virginica',\n",
       "       'Iris-virginica', 'Iris-virginica', 'Iris-virginica',\n",
       "       'Iris-virginica', 'Iris-virginica', 'Iris-virginica',\n",
       "       'Iris-virginica', 'Iris-virginica', 'Iris-virginica',\n",
       "       'Iris-virginica', 'Iris-virginica', 'Iris-virginica',\n",
       "       'Iris-virginica', 'Iris-virginica', 'Iris-virginica',\n",
       "       'Iris-virginica', 'Iris-virginica', 'Iris-virginica',\n",
       "       'Iris-virginica', 'Iris-virginica', 'Iris-virginica',\n",
       "       'Iris-virginica', 'Iris-virginica', 'Iris-virginica',\n",
       "       'Iris-virginica', 'Iris-virginica', 'Iris-virginica',\n",
       "       'Iris-virginica', 'Iris-virginica', 'Iris-virginica',\n",
       "       'Iris-virginica', 'Iris-virginica', 'Iris-virginica',\n",
       "       'Iris-virginica', 'Iris-virginica', 'Iris-virginica',\n",
       "       'Iris-virginica', 'Iris-virginica'], \n",
       "      dtype='|S15')"
      ]
     },
     "execution_count": 314,
     "metadata": {},
     "output_type": "execute_result"
    }
   ],
   "source": [
    "target = data[:, -1]\n",
    "target"
   ]
  },
  {
   "cell_type": "code",
   "execution_count": 315,
   "metadata": {
    "collapsed": true
   },
   "outputs": [],
   "source": [
    "data = data[:, 0:-1]"
   ]
  },
  {
   "cell_type": "code",
   "execution_count": 316,
   "metadata": {
    "collapsed": false
   },
   "outputs": [
    {
     "data": {
      "text/plain": [
       "array([['5.1', '3.5', '1.4', '0.2'],\n",
       "       ['4.9', '3.0', '1.4', '0.2'],\n",
       "       ['4.7', '3.2', '1.3', '0.2'],\n",
       "       ['4.6', '3.1', '1.5', '0.2'],\n",
       "       ['5.0', '3.6', '1.4', '0.2'],\n",
       "       ['5.4', '3.9', '1.7', '0.4'],\n",
       "       ['4.6', '3.4', '1.4', '0.3'],\n",
       "       ['5.0', '3.4', '1.5', '0.2'],\n",
       "       ['4.4', '2.9', '1.4', '0.2'],\n",
       "       ['4.9', '3.1', '1.5', '0.1'],\n",
       "       ['5.4', '3.7', '1.5', '0.2'],\n",
       "       ['4.8', '3.4', '1.6', '0.2'],\n",
       "       ['4.8', '3.0', '1.4', '0.1'],\n",
       "       ['4.3', '3.0', '1.1', '0.1'],\n",
       "       ['5.8', '4.0', '1.2', '0.2'],\n",
       "       ['5.7', '4.4', '1.5', '0.4'],\n",
       "       ['5.4', '3.9', '1.3', '0.4'],\n",
       "       ['5.1', '3.5', '1.4', '0.3'],\n",
       "       ['5.7', '3.8', '1.7', '0.3'],\n",
       "       ['5.1', '3.8', '1.5', '0.3'],\n",
       "       ['5.4', '3.4', '1.7', '0.2'],\n",
       "       ['5.1', '3.7', '1.5', '0.4'],\n",
       "       ['4.6', '3.6', '1.0', '0.2'],\n",
       "       ['5.1', '3.3', '1.7', '0.5'],\n",
       "       ['4.8', '3.4', '1.9', '0.2'],\n",
       "       ['5.0', '3.0', '1.6', '0.2'],\n",
       "       ['5.0', '3.4', '1.6', '0.4'],\n",
       "       ['5.2', '3.5', '1.5', '0.2'],\n",
       "       ['5.2', '3.4', '1.4', '0.2'],\n",
       "       ['4.7', '3.2', '1.6', '0.2'],\n",
       "       ['4.8', '3.1', '1.6', '0.2'],\n",
       "       ['5.4', '3.4', '1.5', '0.4'],\n",
       "       ['5.2', '4.1', '1.5', '0.1'],\n",
       "       ['5.5', '4.2', '1.4', '0.2'],\n",
       "       ['4.9', '3.1', '1.5', '0.1'],\n",
       "       ['5.0', '3.2', '1.2', '0.2'],\n",
       "       ['5.5', '3.5', '1.3', '0.2'],\n",
       "       ['4.9', '3.1', '1.5', '0.1'],\n",
       "       ['4.4', '3.0', '1.3', '0.2'],\n",
       "       ['5.1', '3.4', '1.5', '0.2'],\n",
       "       ['5.0', '3.5', '1.3', '0.3'],\n",
       "       ['4.5', '2.3', '1.3', '0.3'],\n",
       "       ['4.4', '3.2', '1.3', '0.2'],\n",
       "       ['5.0', '3.5', '1.6', '0.6'],\n",
       "       ['5.1', '3.8', '1.9', '0.4'],\n",
       "       ['4.8', '3.0', '1.4', '0.3'],\n",
       "       ['5.1', '3.8', '1.6', '0.2'],\n",
       "       ['4.6', '3.2', '1.4', '0.2'],\n",
       "       ['5.3', '3.7', '1.5', '0.2'],\n",
       "       ['5.0', '3.3', '1.4', '0.2'],\n",
       "       ['7.0', '3.2', '4.7', '1.4'],\n",
       "       ['6.4', '3.2', '4.5', '1.5'],\n",
       "       ['6.9', '3.1', '4.9', '1.5'],\n",
       "       ['5.5', '2.3', '4.0', '1.3'],\n",
       "       ['6.5', '2.8', '4.6', '1.5'],\n",
       "       ['5.7', '2.8', '4.5', '1.3'],\n",
       "       ['6.3', '3.3', '4.7', '1.6'],\n",
       "       ['4.9', '2.4', '3.3', '1.0'],\n",
       "       ['6.6', '2.9', '4.6', '1.3'],\n",
       "       ['5.2', '2.7', '3.9', '1.4'],\n",
       "       ['5.0', '2.0', '3.5', '1.0'],\n",
       "       ['5.9', '3.0', '4.2', '1.5'],\n",
       "       ['6.0', '2.2', '4.0', '1.0'],\n",
       "       ['6.1', '2.9', '4.7', '1.4'],\n",
       "       ['5.6', '2.9', '3.6', '1.3'],\n",
       "       ['6.7', '3.1', '4.4', '1.4'],\n",
       "       ['5.6', '3.0', '4.5', '1.5'],\n",
       "       ['5.8', '2.7', '4.1', '1.0'],\n",
       "       ['6.2', '2.2', '4.5', '1.5'],\n",
       "       ['5.6', '2.5', '3.9', '1.1'],\n",
       "       ['5.9', '3.2', '4.8', '1.8'],\n",
       "       ['6.1', '2.8', '4.0', '1.3'],\n",
       "       ['6.3', '2.5', '4.9', '1.5'],\n",
       "       ['6.1', '2.8', '4.7', '1.2'],\n",
       "       ['6.4', '2.9', '4.3', '1.3'],\n",
       "       ['6.6', '3.0', '4.4', '1.4'],\n",
       "       ['6.8', '2.8', '4.8', '1.4'],\n",
       "       ['6.7', '3.0', '5.0', '1.7'],\n",
       "       ['6.0', '2.9', '4.5', '1.5'],\n",
       "       ['5.7', '2.6', '3.5', '1.0'],\n",
       "       ['5.5', '2.4', '3.8', '1.1'],\n",
       "       ['5.5', '2.4', '3.7', '1.0'],\n",
       "       ['5.8', '2.7', '3.9', '1.2'],\n",
       "       ['6.0', '2.7', '5.1', '1.6'],\n",
       "       ['5.4', '3.0', '4.5', '1.5'],\n",
       "       ['6.0', '3.4', '4.5', '1.6'],\n",
       "       ['6.7', '3.1', '4.7', '1.5'],\n",
       "       ['6.3', '2.3', '4.4', '1.3'],\n",
       "       ['5.6', '3.0', '4.1', '1.3'],\n",
       "       ['5.5', '2.5', '4.0', '1.3'],\n",
       "       ['5.5', '2.6', '4.4', '1.2'],\n",
       "       ['6.1', '3.0', '4.6', '1.4'],\n",
       "       ['5.8', '2.6', '4.0', '1.2'],\n",
       "       ['5.0', '2.3', '3.3', '1.0'],\n",
       "       ['5.6', '2.7', '4.2', '1.3'],\n",
       "       ['5.7', '3.0', '4.2', '1.2'],\n",
       "       ['5.7', '2.9', '4.2', '1.3'],\n",
       "       ['6.2', '2.9', '4.3', '1.3'],\n",
       "       ['5.1', '2.5', '3.0', '1.1'],\n",
       "       ['5.7', '2.8', '4.1', '1.3'],\n",
       "       ['6.3', '3.3', '6.0', '2.5'],\n",
       "       ['5.8', '2.7', '5.1', '1.9'],\n",
       "       ['7.1', '3.0', '5.9', '2.1'],\n",
       "       ['6.3', '2.9', '5.6', '1.8'],\n",
       "       ['6.5', '3.0', '5.8', '2.2'],\n",
       "       ['7.6', '3.0', '6.6', '2.1'],\n",
       "       ['4.9', '2.5', '4.5', '1.7'],\n",
       "       ['7.3', '2.9', '6.3', '1.8'],\n",
       "       ['6.7', '2.5', '5.8', '1.8'],\n",
       "       ['7.2', '3.6', '6.1', '2.5'],\n",
       "       ['6.5', '3.2', '5.1', '2.0'],\n",
       "       ['6.4', '2.7', '5.3', '1.9'],\n",
       "       ['6.8', '3.0', '5.5', '2.1'],\n",
       "       ['5.7', '2.5', '5.0', '2.0'],\n",
       "       ['5.8', '2.8', '5.1', '2.4'],\n",
       "       ['6.4', '3.2', '5.3', '2.3'],\n",
       "       ['6.5', '3.0', '5.5', '1.8'],\n",
       "       ['7.7', '3.8', '6.7', '2.2'],\n",
       "       ['7.7', '2.6', '6.9', '2.3'],\n",
       "       ['6.0', '2.2', '5.0', '1.5'],\n",
       "       ['6.9', '3.2', '5.7', '2.3'],\n",
       "       ['5.6', '2.8', '4.9', '2.0'],\n",
       "       ['7.7', '2.8', '6.7', '2.0'],\n",
       "       ['6.3', '2.7', '4.9', '1.8'],\n",
       "       ['6.7', '3.3', '5.7', '2.1'],\n",
       "       ['7.2', '3.2', '6.0', '1.8'],\n",
       "       ['6.2', '2.8', '4.8', '1.8'],\n",
       "       ['6.1', '3.0', '4.9', '1.8'],\n",
       "       ['6.4', '2.8', '5.6', '2.1'],\n",
       "       ['7.2', '3.0', '5.8', '1.6'],\n",
       "       ['7.4', '2.8', '6.1', '1.9'],\n",
       "       ['7.9', '3.8', '6.4', '2.0'],\n",
       "       ['6.4', '2.8', '5.6', '2.2'],\n",
       "       ['6.3', '2.8', '5.1', '1.5'],\n",
       "       ['6.1', '2.6', '5.6', '1.4'],\n",
       "       ['7.7', '3.0', '6.1', '2.3'],\n",
       "       ['6.3', '3.4', '5.6', '2.4'],\n",
       "       ['6.4', '3.1', '5.5', '1.8'],\n",
       "       ['6.0', '3.0', '4.8', '1.8'],\n",
       "       ['6.9', '3.1', '5.4', '2.1'],\n",
       "       ['6.7', '3.1', '5.6', '2.4'],\n",
       "       ['6.9', '3.1', '5.1', '2.3'],\n",
       "       ['5.8', '2.7', '5.1', '1.9'],\n",
       "       ['6.8', '3.2', '5.9', '2.3'],\n",
       "       ['6.7', '3.3', '5.7', '2.5'],\n",
       "       ['6.7', '3.0', '5.2', '2.3'],\n",
       "       ['6.3', '2.5', '5.0', '1.9'],\n",
       "       ['6.5', '3.0', '5.2', '2.0'],\n",
       "       ['6.2', '3.4', '5.4', '2.3'],\n",
       "       ['5.9', '3.0', '5.1', '1.8']], \n",
       "      dtype='|S15')"
      ]
     },
     "execution_count": 316,
     "metadata": {},
     "output_type": "execute_result"
    }
   ],
   "source": [
    "data"
   ]
  },
  {
   "cell_type": "code",
   "execution_count": 317,
   "metadata": {
    "collapsed": true
   },
   "outputs": [],
   "source": [
    "data = data.astype(np.float)"
   ]
  },
  {
   "cell_type": "code",
   "execution_count": 318,
   "metadata": {
    "collapsed": false
   },
   "outputs": [
    {
     "data": {
      "text/plain": [
       "array([[ 5.1,  3.5,  1.4,  0.2],\n",
       "       [ 4.9,  3. ,  1.4,  0.2],\n",
       "       [ 4.7,  3.2,  1.3,  0.2],\n",
       "       [ 4.6,  3.1,  1.5,  0.2],\n",
       "       [ 5. ,  3.6,  1.4,  0.2],\n",
       "       [ 5.4,  3.9,  1.7,  0.4],\n",
       "       [ 4.6,  3.4,  1.4,  0.3],\n",
       "       [ 5. ,  3.4,  1.5,  0.2],\n",
       "       [ 4.4,  2.9,  1.4,  0.2],\n",
       "       [ 4.9,  3.1,  1.5,  0.1],\n",
       "       [ 5.4,  3.7,  1.5,  0.2],\n",
       "       [ 4.8,  3.4,  1.6,  0.2],\n",
       "       [ 4.8,  3. ,  1.4,  0.1],\n",
       "       [ 4.3,  3. ,  1.1,  0.1],\n",
       "       [ 5.8,  4. ,  1.2,  0.2],\n",
       "       [ 5.7,  4.4,  1.5,  0.4],\n",
       "       [ 5.4,  3.9,  1.3,  0.4],\n",
       "       [ 5.1,  3.5,  1.4,  0.3],\n",
       "       [ 5.7,  3.8,  1.7,  0.3],\n",
       "       [ 5.1,  3.8,  1.5,  0.3],\n",
       "       [ 5.4,  3.4,  1.7,  0.2],\n",
       "       [ 5.1,  3.7,  1.5,  0.4],\n",
       "       [ 4.6,  3.6,  1. ,  0.2],\n",
       "       [ 5.1,  3.3,  1.7,  0.5],\n",
       "       [ 4.8,  3.4,  1.9,  0.2],\n",
       "       [ 5. ,  3. ,  1.6,  0.2],\n",
       "       [ 5. ,  3.4,  1.6,  0.4],\n",
       "       [ 5.2,  3.5,  1.5,  0.2],\n",
       "       [ 5.2,  3.4,  1.4,  0.2],\n",
       "       [ 4.7,  3.2,  1.6,  0.2],\n",
       "       [ 4.8,  3.1,  1.6,  0.2],\n",
       "       [ 5.4,  3.4,  1.5,  0.4],\n",
       "       [ 5.2,  4.1,  1.5,  0.1],\n",
       "       [ 5.5,  4.2,  1.4,  0.2],\n",
       "       [ 4.9,  3.1,  1.5,  0.1],\n",
       "       [ 5. ,  3.2,  1.2,  0.2],\n",
       "       [ 5.5,  3.5,  1.3,  0.2],\n",
       "       [ 4.9,  3.1,  1.5,  0.1],\n",
       "       [ 4.4,  3. ,  1.3,  0.2],\n",
       "       [ 5.1,  3.4,  1.5,  0.2],\n",
       "       [ 5. ,  3.5,  1.3,  0.3],\n",
       "       [ 4.5,  2.3,  1.3,  0.3],\n",
       "       [ 4.4,  3.2,  1.3,  0.2],\n",
       "       [ 5. ,  3.5,  1.6,  0.6],\n",
       "       [ 5.1,  3.8,  1.9,  0.4],\n",
       "       [ 4.8,  3. ,  1.4,  0.3],\n",
       "       [ 5.1,  3.8,  1.6,  0.2],\n",
       "       [ 4.6,  3.2,  1.4,  0.2],\n",
       "       [ 5.3,  3.7,  1.5,  0.2],\n",
       "       [ 5. ,  3.3,  1.4,  0.2],\n",
       "       [ 7. ,  3.2,  4.7,  1.4],\n",
       "       [ 6.4,  3.2,  4.5,  1.5],\n",
       "       [ 6.9,  3.1,  4.9,  1.5],\n",
       "       [ 5.5,  2.3,  4. ,  1.3],\n",
       "       [ 6.5,  2.8,  4.6,  1.5],\n",
       "       [ 5.7,  2.8,  4.5,  1.3],\n",
       "       [ 6.3,  3.3,  4.7,  1.6],\n",
       "       [ 4.9,  2.4,  3.3,  1. ],\n",
       "       [ 6.6,  2.9,  4.6,  1.3],\n",
       "       [ 5.2,  2.7,  3.9,  1.4],\n",
       "       [ 5. ,  2. ,  3.5,  1. ],\n",
       "       [ 5.9,  3. ,  4.2,  1.5],\n",
       "       [ 6. ,  2.2,  4. ,  1. ],\n",
       "       [ 6.1,  2.9,  4.7,  1.4],\n",
       "       [ 5.6,  2.9,  3.6,  1.3],\n",
       "       [ 6.7,  3.1,  4.4,  1.4],\n",
       "       [ 5.6,  3. ,  4.5,  1.5],\n",
       "       [ 5.8,  2.7,  4.1,  1. ],\n",
       "       [ 6.2,  2.2,  4.5,  1.5],\n",
       "       [ 5.6,  2.5,  3.9,  1.1],\n",
       "       [ 5.9,  3.2,  4.8,  1.8],\n",
       "       [ 6.1,  2.8,  4. ,  1.3],\n",
       "       [ 6.3,  2.5,  4.9,  1.5],\n",
       "       [ 6.1,  2.8,  4.7,  1.2],\n",
       "       [ 6.4,  2.9,  4.3,  1.3],\n",
       "       [ 6.6,  3. ,  4.4,  1.4],\n",
       "       [ 6.8,  2.8,  4.8,  1.4],\n",
       "       [ 6.7,  3. ,  5. ,  1.7],\n",
       "       [ 6. ,  2.9,  4.5,  1.5],\n",
       "       [ 5.7,  2.6,  3.5,  1. ],\n",
       "       [ 5.5,  2.4,  3.8,  1.1],\n",
       "       [ 5.5,  2.4,  3.7,  1. ],\n",
       "       [ 5.8,  2.7,  3.9,  1.2],\n",
       "       [ 6. ,  2.7,  5.1,  1.6],\n",
       "       [ 5.4,  3. ,  4.5,  1.5],\n",
       "       [ 6. ,  3.4,  4.5,  1.6],\n",
       "       [ 6.7,  3.1,  4.7,  1.5],\n",
       "       [ 6.3,  2.3,  4.4,  1.3],\n",
       "       [ 5.6,  3. ,  4.1,  1.3],\n",
       "       [ 5.5,  2.5,  4. ,  1.3],\n",
       "       [ 5.5,  2.6,  4.4,  1.2],\n",
       "       [ 6.1,  3. ,  4.6,  1.4],\n",
       "       [ 5.8,  2.6,  4. ,  1.2],\n",
       "       [ 5. ,  2.3,  3.3,  1. ],\n",
       "       [ 5.6,  2.7,  4.2,  1.3],\n",
       "       [ 5.7,  3. ,  4.2,  1.2],\n",
       "       [ 5.7,  2.9,  4.2,  1.3],\n",
       "       [ 6.2,  2.9,  4.3,  1.3],\n",
       "       [ 5.1,  2.5,  3. ,  1.1],\n",
       "       [ 5.7,  2.8,  4.1,  1.3],\n",
       "       [ 6.3,  3.3,  6. ,  2.5],\n",
       "       [ 5.8,  2.7,  5.1,  1.9],\n",
       "       [ 7.1,  3. ,  5.9,  2.1],\n",
       "       [ 6.3,  2.9,  5.6,  1.8],\n",
       "       [ 6.5,  3. ,  5.8,  2.2],\n",
       "       [ 7.6,  3. ,  6.6,  2.1],\n",
       "       [ 4.9,  2.5,  4.5,  1.7],\n",
       "       [ 7.3,  2.9,  6.3,  1.8],\n",
       "       [ 6.7,  2.5,  5.8,  1.8],\n",
       "       [ 7.2,  3.6,  6.1,  2.5],\n",
       "       [ 6.5,  3.2,  5.1,  2. ],\n",
       "       [ 6.4,  2.7,  5.3,  1.9],\n",
       "       [ 6.8,  3. ,  5.5,  2.1],\n",
       "       [ 5.7,  2.5,  5. ,  2. ],\n",
       "       [ 5.8,  2.8,  5.1,  2.4],\n",
       "       [ 6.4,  3.2,  5.3,  2.3],\n",
       "       [ 6.5,  3. ,  5.5,  1.8],\n",
       "       [ 7.7,  3.8,  6.7,  2.2],\n",
       "       [ 7.7,  2.6,  6.9,  2.3],\n",
       "       [ 6. ,  2.2,  5. ,  1.5],\n",
       "       [ 6.9,  3.2,  5.7,  2.3],\n",
       "       [ 5.6,  2.8,  4.9,  2. ],\n",
       "       [ 7.7,  2.8,  6.7,  2. ],\n",
       "       [ 6.3,  2.7,  4.9,  1.8],\n",
       "       [ 6.7,  3.3,  5.7,  2.1],\n",
       "       [ 7.2,  3.2,  6. ,  1.8],\n",
       "       [ 6.2,  2.8,  4.8,  1.8],\n",
       "       [ 6.1,  3. ,  4.9,  1.8],\n",
       "       [ 6.4,  2.8,  5.6,  2.1],\n",
       "       [ 7.2,  3. ,  5.8,  1.6],\n",
       "       [ 7.4,  2.8,  6.1,  1.9],\n",
       "       [ 7.9,  3.8,  6.4,  2. ],\n",
       "       [ 6.4,  2.8,  5.6,  2.2],\n",
       "       [ 6.3,  2.8,  5.1,  1.5],\n",
       "       [ 6.1,  2.6,  5.6,  1.4],\n",
       "       [ 7.7,  3. ,  6.1,  2.3],\n",
       "       [ 6.3,  3.4,  5.6,  2.4],\n",
       "       [ 6.4,  3.1,  5.5,  1.8],\n",
       "       [ 6. ,  3. ,  4.8,  1.8],\n",
       "       [ 6.9,  3.1,  5.4,  2.1],\n",
       "       [ 6.7,  3.1,  5.6,  2.4],\n",
       "       [ 6.9,  3.1,  5.1,  2.3],\n",
       "       [ 5.8,  2.7,  5.1,  1.9],\n",
       "       [ 6.8,  3.2,  5.9,  2.3],\n",
       "       [ 6.7,  3.3,  5.7,  2.5],\n",
       "       [ 6.7,  3. ,  5.2,  2.3],\n",
       "       [ 6.3,  2.5,  5. ,  1.9],\n",
       "       [ 6.5,  3. ,  5.2,  2. ],\n",
       "       [ 6.2,  3.4,  5.4,  2.3],\n",
       "       [ 5.9,  3. ,  5.1,  1.8]])"
      ]
     },
     "execution_count": 318,
     "metadata": {},
     "output_type": "execute_result"
    }
   ],
   "source": [
    "data"
   ]
  },
  {
   "cell_type": "code",
   "execution_count": 319,
   "metadata": {
    "collapsed": false
   },
   "outputs": [
    {
     "data": {
      "text/plain": [
       "['SepalLengthCm', 'SepalWidthCm', 'PetalLengthCm', 'PetalWidthCm', 'Species']"
      ]
     },
     "execution_count": 319,
     "metadata": {},
     "output_type": "execute_result"
    }
   ],
   "source": [
    "header"
   ]
  },
  {
   "cell_type": "code",
   "execution_count": 320,
   "metadata": {
    "collapsed": false
   },
   "outputs": [
    {
     "data": {
      "text/plain": [
       "array(['Iris-setosa', 'Iris-setosa', 'Iris-setosa', 'Iris-setosa',\n",
       "       'Iris-setosa', 'Iris-setosa', 'Iris-setosa', 'Iris-setosa',\n",
       "       'Iris-setosa', 'Iris-setosa', 'Iris-setosa', 'Iris-setosa',\n",
       "       'Iris-setosa', 'Iris-setosa', 'Iris-setosa', 'Iris-setosa',\n",
       "       'Iris-setosa', 'Iris-setosa', 'Iris-setosa', 'Iris-setosa',\n",
       "       'Iris-setosa', 'Iris-setosa', 'Iris-setosa', 'Iris-setosa',\n",
       "       'Iris-setosa', 'Iris-setosa', 'Iris-setosa', 'Iris-setosa',\n",
       "       'Iris-setosa', 'Iris-setosa', 'Iris-setosa', 'Iris-setosa',\n",
       "       'Iris-setosa', 'Iris-setosa', 'Iris-setosa', 'Iris-setosa',\n",
       "       'Iris-setosa', 'Iris-setosa', 'Iris-setosa', 'Iris-setosa',\n",
       "       'Iris-setosa', 'Iris-setosa', 'Iris-setosa', 'Iris-setosa',\n",
       "       'Iris-setosa', 'Iris-setosa', 'Iris-setosa', 'Iris-setosa',\n",
       "       'Iris-setosa'], \n",
       "      dtype='|S15')"
      ]
     },
     "execution_count": 320,
     "metadata": {},
     "output_type": "execute_result"
    }
   ],
   "source": [
    "mask = data[:, 3] < 0.6\n",
    "data[mask, :]\n",
    "target[mask]"
   ]
  },
  {
   "cell_type": "code",
   "execution_count": 321,
   "metadata": {
    "collapsed": true
   },
   "outputs": [],
   "source": [
    "mask = (data[:, 3] > 0.6) & (data[:, 3] <= 1.7) & (data[:,2] <= 4.9)"
   ]
  },
  {
   "cell_type": "code",
   "execution_count": 322,
   "metadata": {
    "collapsed": false
   },
   "outputs": [
    {
     "data": {
      "text/plain": [
       "array(['Iris-versicolor', 'Iris-versicolor', 'Iris-versicolor',\n",
       "       'Iris-versicolor', 'Iris-versicolor', 'Iris-versicolor',\n",
       "       'Iris-versicolor', 'Iris-versicolor', 'Iris-versicolor',\n",
       "       'Iris-versicolor', 'Iris-versicolor', 'Iris-versicolor',\n",
       "       'Iris-versicolor', 'Iris-versicolor', 'Iris-versicolor',\n",
       "       'Iris-versicolor', 'Iris-versicolor', 'Iris-versicolor',\n",
       "       'Iris-versicolor', 'Iris-versicolor', 'Iris-versicolor',\n",
       "       'Iris-versicolor', 'Iris-versicolor', 'Iris-versicolor',\n",
       "       'Iris-versicolor', 'Iris-versicolor', 'Iris-versicolor',\n",
       "       'Iris-versicolor', 'Iris-versicolor', 'Iris-versicolor',\n",
       "       'Iris-versicolor', 'Iris-versicolor', 'Iris-versicolor',\n",
       "       'Iris-versicolor', 'Iris-versicolor', 'Iris-versicolor',\n",
       "       'Iris-versicolor', 'Iris-versicolor', 'Iris-versicolor',\n",
       "       'Iris-versicolor', 'Iris-versicolor', 'Iris-versicolor',\n",
       "       'Iris-versicolor', 'Iris-versicolor', 'Iris-versicolor',\n",
       "       'Iris-versicolor', 'Iris-versicolor', 'Iris-virginica'], \n",
       "      dtype='|S15')"
      ]
     },
     "execution_count": 322,
     "metadata": {},
     "output_type": "execute_result"
    }
   ],
   "source": [
    "target[mask]"
   ]
  },
  {
   "cell_type": "code",
   "execution_count": 323,
   "metadata": {
    "collapsed": false
   },
   "outputs": [
    {
     "data": {
      "text/plain": [
       "876.5"
      ]
     },
     "execution_count": 323,
     "metadata": {},
     "output_type": "execute_result"
    }
   ],
   "source": [
    "data[:,0].sum()"
   ]
  },
  {
   "cell_type": "code",
   "execution_count": 324,
   "metadata": {
    "collapsed": false
   },
   "outputs": [
    {
     "data": {
      "text/plain": [
       "4.2999999999999998"
      ]
     },
     "execution_count": 324,
     "metadata": {},
     "output_type": "execute_result"
    }
   ],
   "source": [
    "data[:,0].min()"
   ]
  },
  {
   "cell_type": "code",
   "execution_count": 325,
   "metadata": {
    "collapsed": false
   },
   "outputs": [
    {
     "data": {
      "text/plain": [
       "5.8433333333333337"
      ]
     },
     "execution_count": 325,
     "metadata": {},
     "output_type": "execute_result"
    }
   ],
   "source": [
    "data[:,0].mean()"
   ]
  },
  {
   "cell_type": "code",
   "execution_count": 326,
   "metadata": {
    "collapsed": false
   },
   "outputs": [
    {
     "data": {
      "text/plain": [
       "0.82530129178514089"
      ]
     },
     "execution_count": 326,
     "metadata": {},
     "output_type": "execute_result"
    }
   ],
   "source": [
    "data[:,0].std()"
   ]
  },
  {
   "cell_type": "code",
   "execution_count": 327,
   "metadata": {
    "collapsed": false
   },
   "outputs": [
    {
     "data": {
      "text/plain": [
       "array(['Iris-setosa', 'Iris-setosa', 'Iris-setosa', 'Iris-setosa',\n",
       "       'Iris-setosa'], \n",
       "      dtype='|S15')"
      ]
     },
     "execution_count": 327,
     "metadata": {},
     "output_type": "execute_result"
    }
   ],
   "source": [
    "target[0:5] # apenas nomes"
   ]
  },
  {
   "cell_type": "code",
   "execution_count": 328,
   "metadata": {
    "collapsed": false
   },
   "outputs": [
    {
     "data": {
      "text/plain": [
       "array(['Iris-setosa', 'Iris-versicolor', 'Iris-virginica'], \n",
       "      dtype='|S15')"
      ]
     },
     "execution_count": 328,
     "metadata": {},
     "output_type": "execute_result"
    }
   ],
   "source": [
    "np.unique(target)"
   ]
  },
  {
   "cell_type": "code",
   "execution_count": 329,
   "metadata": {
    "collapsed": true
   },
   "outputs": [],
   "source": [
    "target_names = np.unique(target)"
   ]
  },
  {
   "cell_type": "code",
   "execution_count": 330,
   "metadata": {
    "collapsed": false
   },
   "outputs": [
    {
     "name": "stdout",
     "output_type": "stream",
     "text": [
      "(0, 'Iris-setosa')\n",
      "(1, 'Iris-setosa')\n",
      "(2, 'Iris-setosa')\n",
      "(3, 'Iris-setosa')\n",
      "(4, 'Iris-setosa')\n",
      "(5, 'Iris-setosa')\n",
      "(6, 'Iris-setosa')\n",
      "(7, 'Iris-setosa')\n",
      "(8, 'Iris-setosa')\n",
      "(9, 'Iris-setosa')\n",
      "(10, 'Iris-setosa')\n",
      "(11, 'Iris-setosa')\n",
      "(12, 'Iris-setosa')\n",
      "(13, 'Iris-setosa')\n",
      "(14, 'Iris-setosa')\n",
      "(15, 'Iris-setosa')\n",
      "(16, 'Iris-setosa')\n",
      "(17, 'Iris-setosa')\n",
      "(18, 'Iris-setosa')\n",
      "(19, 'Iris-setosa')\n",
      "(20, 'Iris-setosa')\n",
      "(21, 'Iris-setosa')\n",
      "(22, 'Iris-setosa')\n",
      "(23, 'Iris-setosa')\n",
      "(24, 'Iris-setosa')\n",
      "(25, 'Iris-setosa')\n",
      "(26, 'Iris-setosa')\n",
      "(27, 'Iris-setosa')\n",
      "(28, 'Iris-setosa')\n",
      "(29, 'Iris-setosa')\n",
      "(30, 'Iris-setosa')\n",
      "(31, 'Iris-setosa')\n",
      "(32, 'Iris-setosa')\n",
      "(33, 'Iris-setosa')\n",
      "(34, 'Iris-setosa')\n",
      "(35, 'Iris-setosa')\n",
      "(36, 'Iris-setosa')\n",
      "(37, 'Iris-setosa')\n",
      "(38, 'Iris-setosa')\n",
      "(39, 'Iris-setosa')\n",
      "(40, 'Iris-setosa')\n",
      "(41, 'Iris-setosa')\n",
      "(42, 'Iris-setosa')\n",
      "(43, 'Iris-setosa')\n",
      "(44, 'Iris-setosa')\n",
      "(45, 'Iris-setosa')\n",
      "(46, 'Iris-setosa')\n",
      "(47, 'Iris-setosa')\n",
      "(48, 'Iris-setosa')\n",
      "(49, 'Iris-setosa')\n",
      "(50, 'Iris-versicolor')\n",
      "(51, 'Iris-versicolor')\n",
      "(52, 'Iris-versicolor')\n",
      "(53, 'Iris-versicolor')\n",
      "(54, 'Iris-versicolor')\n",
      "(55, 'Iris-versicolor')\n",
      "(56, 'Iris-versicolor')\n",
      "(57, 'Iris-versicolor')\n",
      "(58, 'Iris-versicolor')\n",
      "(59, 'Iris-versicolor')\n",
      "(60, 'Iris-versicolor')\n",
      "(61, 'Iris-versicolor')\n",
      "(62, 'Iris-versicolor')\n",
      "(63, 'Iris-versicolor')\n",
      "(64, 'Iris-versicolor')\n",
      "(65, 'Iris-versicolor')\n",
      "(66, 'Iris-versicolor')\n",
      "(67, 'Iris-versicolor')\n",
      "(68, 'Iris-versicolor')\n",
      "(69, 'Iris-versicolor')\n",
      "(70, 'Iris-versicolor')\n",
      "(71, 'Iris-versicolor')\n",
      "(72, 'Iris-versicolor')\n",
      "(73, 'Iris-versicolor')\n",
      "(74, 'Iris-versicolor')\n",
      "(75, 'Iris-versicolor')\n",
      "(76, 'Iris-versicolor')\n",
      "(77, 'Iris-versicolor')\n",
      "(78, 'Iris-versicolor')\n",
      "(79, 'Iris-versicolor')\n",
      "(80, 'Iris-versicolor')\n",
      "(81, 'Iris-versicolor')\n",
      "(82, 'Iris-versicolor')\n",
      "(83, 'Iris-versicolor')\n",
      "(84, 'Iris-versicolor')\n",
      "(85, 'Iris-versicolor')\n",
      "(86, 'Iris-versicolor')\n",
      "(87, 'Iris-versicolor')\n",
      "(88, 'Iris-versicolor')\n",
      "(89, 'Iris-versicolor')\n",
      "(90, 'Iris-versicolor')\n",
      "(91, 'Iris-versicolor')\n",
      "(92, 'Iris-versicolor')\n",
      "(93, 'Iris-versicolor')\n",
      "(94, 'Iris-versicolor')\n",
      "(95, 'Iris-versicolor')\n",
      "(96, 'Iris-versicolor')\n",
      "(97, 'Iris-versicolor')\n",
      "(98, 'Iris-versicolor')\n",
      "(99, 'Iris-versicolor')\n",
      "(100, 'Iris-virginica')\n",
      "(101, 'Iris-virginica')\n",
      "(102, 'Iris-virginica')\n",
      "(103, 'Iris-virginica')\n",
      "(104, 'Iris-virginica')\n",
      "(105, 'Iris-virginica')\n",
      "(106, 'Iris-virginica')\n",
      "(107, 'Iris-virginica')\n",
      "(108, 'Iris-virginica')\n",
      "(109, 'Iris-virginica')\n",
      "(110, 'Iris-virginica')\n",
      "(111, 'Iris-virginica')\n",
      "(112, 'Iris-virginica')\n",
      "(113, 'Iris-virginica')\n",
      "(114, 'Iris-virginica')\n",
      "(115, 'Iris-virginica')\n",
      "(116, 'Iris-virginica')\n",
      "(117, 'Iris-virginica')\n",
      "(118, 'Iris-virginica')\n",
      "(119, 'Iris-virginica')\n",
      "(120, 'Iris-virginica')\n",
      "(121, 'Iris-virginica')\n",
      "(122, 'Iris-virginica')\n",
      "(123, 'Iris-virginica')\n",
      "(124, 'Iris-virginica')\n",
      "(125, 'Iris-virginica')\n",
      "(126, 'Iris-virginica')\n",
      "(127, 'Iris-virginica')\n",
      "(128, 'Iris-virginica')\n",
      "(129, 'Iris-virginica')\n",
      "(130, 'Iris-virginica')\n",
      "(131, 'Iris-virginica')\n",
      "(132, 'Iris-virginica')\n",
      "(133, 'Iris-virginica')\n",
      "(134, 'Iris-virginica')\n",
      "(135, 'Iris-virginica')\n",
      "(136, 'Iris-virginica')\n",
      "(137, 'Iris-virginica')\n",
      "(138, 'Iris-virginica')\n",
      "(139, 'Iris-virginica')\n",
      "(140, 'Iris-virginica')\n",
      "(141, 'Iris-virginica')\n",
      "(142, 'Iris-virginica')\n",
      "(143, 'Iris-virginica')\n",
      "(144, 'Iris-virginica')\n",
      "(145, 'Iris-virginica')\n",
      "(146, 'Iris-virginica')\n",
      "(147, 'Iris-virginica')\n",
      "(148, 'Iris-virginica')\n",
      "(149, 'Iris-virginica')\n"
     ]
    }
   ],
   "source": [
    "for idx, row in enumerate(target):\n",
    "    print(idx,row)"
   ]
  },
  {
   "cell_type": "code",
   "execution_count": 331,
   "metadata": {
    "collapsed": true
   },
   "outputs": [],
   "source": [
    "target_raw = target.copy()"
   ]
  },
  {
   "cell_type": "code",
   "execution_count": 332,
   "metadata": {
    "collapsed": true
   },
   "outputs": [],
   "source": [
    "for idx,row in enumerate(target):\n",
    "    if row == \"Iris-setosa\": target[idx] = 0\n",
    "    if row == \"Iris-versicolor\": target[idx] = 1\n",
    "    if row == \"Iris-virginica\": target[idx] = 2"
   ]
  },
  {
   "cell_type": "code",
   "execution_count": 333,
   "metadata": {
    "collapsed": false
   },
   "outputs": [
    {
     "data": {
      "text/plain": [
       "array([0, 0, 0, 0, 0, 0, 0, 0, 0, 0, 0, 0, 0, 0, 0, 0, 0, 0, 0, 0, 0, 0, 0,\n",
       "       0, 0, 0, 0, 0, 0, 0, 0, 0, 0, 0, 0, 0, 0, 0, 0, 0, 0, 0, 0, 0, 0, 0,\n",
       "       0, 0, 0, 0, 1, 1, 1, 1, 1, 1, 1, 1, 1, 1, 1, 1, 1, 1, 1, 1, 1, 1, 1,\n",
       "       1, 1, 1, 1, 1, 1, 1, 1, 1, 1, 1, 1, 1, 1, 1, 1, 1, 1, 1, 1, 1, 1, 1,\n",
       "       1, 1, 1, 1, 1, 1, 1, 1, 2, 2, 2, 2, 2, 2, 2, 2, 2, 2, 2, 2, 2, 2, 2,\n",
       "       2, 2, 2, 2, 2, 2, 2, 2, 2, 2, 2, 2, 2, 2, 2, 2, 2, 2, 2, 2, 2, 2, 2,\n",
       "       2, 2, 2, 2, 2, 2, 2, 2, 2, 2, 2, 2])"
      ]
     },
     "execution_count": 333,
     "metadata": {},
     "output_type": "execute_result"
    }
   ],
   "source": [
    "target = target.astype(np.int)\n",
    "target"
   ]
  },
  {
   "cell_type": "code",
   "execution_count": 334,
   "metadata": {
    "collapsed": false
   },
   "outputs": [
    {
     "data": {
      "text/plain": [
       "array([[ 5.1,  3.5,  1.4,  0.2],\n",
       "       [ 4.9,  3. ,  1.4,  0.2],\n",
       "       [ 4.7,  3.2,  1.3,  0.2],\n",
       "       [ 4.6,  3.1,  1.5,  0.2],\n",
       "       [ 5. ,  3.6,  1.4,  0.2]])"
      ]
     },
     "execution_count": 334,
     "metadata": {},
     "output_type": "execute_result"
    }
   ],
   "source": [
    "data[0:5,]"
   ]
  },
  {
   "cell_type": "code",
   "execution_count": 335,
   "metadata": {
    "collapsed": false
   },
   "outputs": [
    {
     "data": {
      "text/plain": [
       "120.0"
      ]
     },
     "execution_count": 335,
     "metadata": {},
     "output_type": "execute_result"
    }
   ],
   "source": [
    "150*0.8"
   ]
  },
  {
   "cell_type": "code",
   "execution_count": 336,
   "metadata": {
    "collapsed": false
   },
   "outputs": [],
   "source": [
    "idx = np.random.choice(150, size=120)"
   ]
  },
  {
   "cell_type": "code",
   "execution_count": 337,
   "metadata": {
    "collapsed": true
   },
   "outputs": [],
   "source": [
    "dims = [2, 3]\n",
    "data_dim = data[:, dims]\n",
    "\n",
    "train_data = data_dim[idx, :]\n",
    "test_data = data_dim[~idx, :]"
   ]
  },
  {
   "cell_type": "code",
   "execution_count": 338,
   "metadata": {
    "collapsed": true
   },
   "outputs": [],
   "source": [
    "train_target = target[idx]\n",
    "test_target = target[~idx]"
   ]
  },
  {
   "cell_type": "code",
   "execution_count": 339,
   "metadata": {
    "collapsed": false
   },
   "outputs": [],
   "source": [
    "import sklearn"
   ]
  },
  {
   "cell_type": "code",
   "execution_count": 340,
   "metadata": {
    "collapsed": false
   },
   "outputs": [],
   "source": [
    "from sklearn.tree import DecisionTreeClassifier"
   ]
  },
  {
   "cell_type": "code",
   "execution_count": 341,
   "metadata": {
    "collapsed": false
   },
   "outputs": [],
   "source": [
    "clf = DecisionTreeClassifier()"
   ]
  },
  {
   "cell_type": "code",
   "execution_count": 342,
   "metadata": {
    "collapsed": false
   },
   "outputs": [],
   "source": [
    "clf = clf.fit(train_data, train_target)"
   ]
  },
  {
   "cell_type": "code",
   "execution_count": 343,
   "metadata": {
    "collapsed": false
   },
   "outputs": [],
   "source": [
    "pred = clf.predict(test_data)"
   ]
  },
  {
   "cell_type": "code",
   "execution_count": 344,
   "metadata": {
    "collapsed": false
   },
   "outputs": [
    {
     "data": {
      "text/plain": [
       "array([1, 0, 0, 2, 0, 1, 2, 1, 2, 1, 0, 0, 2, 1, 0, 1, 0, 0, 1, 0, 0, 2, 1,\n",
       "       2, 1, 1, 1, 2, 1, 2, 0, 1, 1, 0, 2, 2, 1, 0, 0, 1, 0, 0, 1, 2, 2, 2,\n",
       "       1, 1, 1, 0, 2, 2, 0, 2, 0, 0, 0, 2, 0, 1, 0, 0, 0, 1, 1, 0, 0, 2, 1,\n",
       "       0, 0, 1, 2, 0, 0, 0, 2, 0, 2, 0, 1, 0, 2, 2, 1, 2, 0, 2, 2, 0, 2, 2,\n",
       "       1, 0, 1, 0, 2, 1, 0, 1, 2, 0, 2, 1, 2, 1, 0, 0, 2, 2, 0, 2, 0, 0, 2,\n",
       "       0, 0, 0, 0, 2])"
      ]
     },
     "execution_count": 344,
     "metadata": {},
     "output_type": "execute_result"
    }
   ],
   "source": [
    "pred"
   ]
  },
  {
   "cell_type": "code",
   "execution_count": 345,
   "metadata": {
    "collapsed": false
   },
   "outputs": [
    {
     "data": {
      "text/plain": [
       "array([ 0,  0,  0,  0,  0,  0,  0,  0,  0,  0,  0,  0,  0,  0,  0,  0,  0,\n",
       "        0,  0,  0,  0,  0,  0,  0,  0,  0,  0,  0,  0,  0,  0,  0,  0,  0,\n",
       "        0,  0,  0,  0,  0,  0,  0,  0,  0, -1,  0,  0,  0,  0,  0,  0,  0,\n",
       "        0,  0,  0,  0,  0,  0,  0,  0,  0,  0,  0,  0,  0,  0,  0,  0,  0,\n",
       "        0,  0,  0,  0,  0,  0,  0,  0,  0,  0,  0,  0,  0,  0,  0,  0,  0,\n",
       "        0,  0,  0,  0,  0,  0,  0,  0,  0,  0,  0,  0,  0,  0,  0,  0,  0,\n",
       "        0,  0,  0,  0,  0,  0,  0,  0,  0,  0,  0,  0,  0,  0,  0,  0,  0,\n",
       "       -1])"
      ]
     },
     "execution_count": 345,
     "metadata": {},
     "output_type": "execute_result"
    }
   ],
   "source": [
    "test_target - pred"
   ]
  },
  {
   "cell_type": "code",
   "execution_count": 346,
   "metadata": {
    "collapsed": true
   },
   "outputs": [],
   "source": [
    "import matplotlib.pyplot as plt\n",
    "\n",
    "# Plot the decision boundary\n",
    "def plot_decision_boundary(X, Y, clf):\n",
    "    # Some variables\n",
    "    n_classes = 3\n",
    "    plot_colors = \"bry\"\n",
    "    plot_step = 0.02\n",
    "    # Set min and max for two dimensions\n",
    "    x_min, x_max = X[:,0].min() - 1, X[:,0].max() + 1\n",
    "    y_min, y_max = X[:,1].min() - 1, X[:,1].max() + 1\n",
    "    # Create matrix of steps from min to max\n",
    "    xx, yy = np.meshgrid(np.arange(x_min, x_max, plot_step), np.arange(y_min, y_max, plot_step))\n",
    "    # Predict every point from the matrix\n",
    "    Z = clf.predict(np.c_[xx.ravel(), yy.ravel()])\n",
    "    # what?\n",
    "    Z = Z.reshape(xx.shape)\n",
    "    # Plot contour\n",
    "    cs = plt.contourf(xx, yy, Z, cmap=plt.cm.Paired)\n",
    "    # Set labels\n",
    "    plt.xlabel(header[dims[0]])\n",
    "    plt.ylabel(header[dims[1]])\n",
    "    plt.axis(\"tight\")\n",
    "    # Plot train points, colored by class\n",
    "    for i, color in zip(range(n_classes), plot_colors):\n",
    "        idx = np.where(Y == i)\n",
    "        plt.scatter(X[idx,0], X[idx,1], c=color, label=target_names[i], cmap=plt.cm.Paired)"
   ]
  },
  {
   "cell_type": "code",
   "execution_count": 347,
   "metadata": {
    "collapsed": false
   },
   "outputs": [],
   "source": [
    "plot_decision_boundary(train_data, train_target, clf)\n",
    "# plt.show()"
   ]
  },
  {
   "cell_type": "code",
   "execution_count": 348,
   "metadata": {
    "collapsed": false
   },
   "outputs": [],
   "source": [
    "from sklearn.cross_validation import cross_val_score"
   ]
  },
  {
   "cell_type": "code",
   "execution_count": 349,
   "metadata": {
    "collapsed": false
   },
   "outputs": [],
   "source": [
    "cv = cross_val_score(clf, data_dim, target, cv=10)"
   ]
  },
  {
   "cell_type": "code",
   "execution_count": 350,
   "metadata": {
    "collapsed": false
   },
   "outputs": [
    {
     "data": {
      "text/plain": [
       "0.94666666666666666"
      ]
     },
     "execution_count": 350,
     "metadata": {},
     "output_type": "execute_result"
    }
   ],
   "source": [
    "cv.mean()"
   ]
  },
  {
   "cell_type": "code",
   "execution_count": 351,
   "metadata": {
    "collapsed": false
   },
   "outputs": [
    {
     "data": {
      "text/plain": [
       "0.058118652580542302"
      ]
     },
     "execution_count": 351,
     "metadata": {},
     "output_type": "execute_result"
    }
   ],
   "source": [
    "cv.std()"
   ]
  },
  {
   "cell_type": "code",
   "execution_count": 381,
   "metadata": {
    "collapsed": false
   },
   "outputs": [],
   "source": [
    "from sklearn.neighbors import KNeighborsClassifier"
   ]
  },
  {
   "cell_type": "code",
   "execution_count": 382,
   "metadata": {
    "collapsed": true
   },
   "outputs": [],
   "source": [
    "clf = KNeighborsClassifier(n_neighbors = 2)"
   ]
  },
  {
   "cell_type": "code",
   "execution_count": 383,
   "metadata": {
    "collapsed": false
   },
   "outputs": [],
   "source": [
    "clf = clf.fit(train_data, train_target)"
   ]
  },
  {
   "cell_type": "code",
   "execution_count": 384,
   "metadata": {
    "collapsed": true
   },
   "outputs": [],
   "source": [
    "pred = clf.predict(test_data)"
   ]
  },
  {
   "cell_type": "code",
   "execution_count": 385,
   "metadata": {
    "collapsed": false
   },
   "outputs": [
    {
     "data": {
      "text/plain": [
       "array([ 0,  0,  0,  0,  0,  0,  0,  0,  0,  0,  0,  0,  0,  0,  0,  0,  0,\n",
       "        0,  0,  0,  0,  0,  0,  0,  0,  0,  0,  0,  0,  0,  0,  0,  0,  0,\n",
       "        0,  0,  0,  0,  0,  0,  0,  0,  0,  1,  0,  0,  0,  0,  0,  0,  0,\n",
       "        0,  0,  0,  0,  0,  0,  0,  0,  0,  0,  0,  0,  0,  0,  0,  0,  0,\n",
       "        0,  0,  0,  0,  0,  0,  0,  0,  0,  0,  0,  0,  0,  0,  0,  0,  0,\n",
       "        0,  0,  0,  0,  0,  0,  0,  0,  0,  0,  0,  0,  0,  0,  0,  0,  0,\n",
       "        0,  0,  0,  0,  0,  0,  0,  0,  0, -1,  0,  0,  0,  0,  0,  0,  0,\n",
       "        1])"
      ]
     },
     "execution_count": 385,
     "metadata": {},
     "output_type": "execute_result"
    }
   ],
   "source": [
    "pred - test_target"
   ]
  },
  {
   "cell_type": "code",
   "execution_count": 386,
   "metadata": {
    "collapsed": true
   },
   "outputs": [],
   "source": [
    "plot_decision_boundary(train_data, train_target, clf)\n",
    "# plt.show()"
   ]
  },
  {
   "cell_type": "code",
   "execution_count": 387,
   "metadata": {
    "collapsed": false
   },
   "outputs": [],
   "source": [
    "cv = cross_val_score(clf, data_dim, target, cv=10)"
   ]
  },
  {
   "cell_type": "code",
   "execution_count": 389,
   "metadata": {
    "collapsed": false
   },
   "outputs": [
    {
     "data": {
      "text/plain": [
       "0.95999999999999996"
      ]
     },
     "execution_count": 389,
     "metadata": {},
     "output_type": "execute_result"
    }
   ],
   "source": [
    "cv.mean()"
   ]
  },
  {
   "cell_type": "code",
   "execution_count": null,
   "metadata": {
    "collapsed": false
   },
   "outputs": [],
   "source": [
    "classifier = [\n",
    "    KNeighborsClassifier(n_neighbors = 1),\n",
    "    KNeighborsClassifier(n_neighbors = 3),\n",
    "    KNeighborsClassifier(n_neighbors = 5),\n",
    "    DecisionTreeClassifier()\n",
    "]\n",
    "\n",
    "for idx, clf in enumerate(classifier):\n",
    "    clf = clf.fit(train_data, train_target)\n",
    "    pred = clf.predict(test_data)\n",
    "    err = np.sum((pred - test_target) != 0)\n",
    "    print(\"Number of misclassifications = %d\" % (err))\n",
    "    plt.subplot(2, 2, idx + 1)\n",
    "    plot_decision_boundary(train_data, train_target, clf)\n",
    "\n",
    "plt.show()"
   ]
  }
 ],
 "metadata": {
  "kernelspec": {
   "display_name": "Python 2",
   "language": "python",
   "name": "python2"
  },
  "language_info": {
   "codemirror_mode": {
    "name": "ipython",
    "version": 2
   },
   "file_extension": ".py",
   "mimetype": "text/x-python",
   "name": "python",
   "nbconvert_exporter": "python",
   "pygments_lexer": "ipython2",
   "version": "2.7.11"
  }
 },
 "nbformat": 4,
 "nbformat_minor": 0
}
